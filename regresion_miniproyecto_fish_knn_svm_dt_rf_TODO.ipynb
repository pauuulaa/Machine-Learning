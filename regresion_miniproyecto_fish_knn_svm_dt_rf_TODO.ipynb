{
 "cells": [
  {
   "cell_type": "markdown",
   "id": "7468716b",
   "metadata": {},
   "source": [
    "\n",
    "# Mini-Proyecto de **Regresión** — Base con TODOs (Fish Market)\n",
    "**Objetivo:** Predecir el **peso** (`Weight`) de los peces a partir de dimensiones físicas.\n",
    "\n",
    "**Dataset:** *Fish Market* (público).  \n",
    "URL sugerida: `https://raw.githubusercontent.com/selva86/datasets/master/Fish.csv`\n",
    "\n",
    "**Modelos a usar (regresión):**\n",
    "- **KNNRegressor**\n",
    "- **SVR**\n",
    "- **DecisionTreeRegressor**\n",
    "- **RandomForestRegressor**\n",
    "\n",
    "> ⚠️ Qué debes completar (TODOs):\n",
    "> 1) **Train/Test split** y **normalización estándar** (cuando aplique).  \n",
    "> 2) **GridSearchCV** para cada modelo (4), **predicciones** y **métricas** (MSE, MAE, RMSE, MAPE, R²).  \n",
    "> 3) **Comparativa final** de modelos.\n",
    ">\n",
    "> Debajo de cada bloque tienes una **SOLUCIÓN comentada** (`# SOLUCIÓN`) que luego puedes borrar.\n"
   ]
  },
  {
   "cell_type": "markdown",
   "id": "815ca5ff",
   "metadata": {},
   "source": [
    "\n",
    "## 1) Imports y configuración\n"
   ]
  },
  {
   "cell_type": "code",
   "execution_count": 1,
   "id": "0afc344f",
   "metadata": {},
   "outputs": [],
   "source": [
    "\n",
    "import numpy as np\n",
    "import pandas as pd\n",
    "\n",
    "import matplotlib.pyplot as plt\n",
    "\n",
    "from sklearn.model_selection import train_test_split, GridSearchCV\n",
    "from sklearn.preprocessing import StandardScaler\n",
    "from sklearn.metrics import (mean_absolute_error, mean_squared_error, r2_score, \n",
    "                             mean_absolute_percentage_error, root_mean_squared_error)\n",
    "\n",
    "# Modelos de regresión (los 4 pedidos)\n",
    "from sklearn.neighbors import KNeighborsRegressor\n",
    "from sklearn.svm import SVR\n",
    "from sklearn.tree import DecisionTreeRegressor\n",
    "from sklearn.ensemble import RandomForestRegressor\n",
    "\n",
    "import warnings\n",
    "warnings.filterwarnings(\"ignore\")\n"
   ]
  },
  {
   "cell_type": "code",
   "execution_count": 3,
   "id": "6b7f52de",
   "metadata": {},
   "outputs": [],
   "source": [
    "\n",
    "import numpy as np\n",
    "import pandas as pd\n",
    "\n",
    "import matplotlib.pyplot as plt\n",
    "\n",
    "from sklearn.model_selection import train_test_split, GridSearchCV\n",
    "from sklearn.preprocessing import StandardScaler\n",
    "from sklearn.metrics import (mean_absolute_error, mean_squared_error, r2_score, \n",
    "                             mean_absolute_percentage_error, root_mean_squared_error)\n",
    "\n",
    "# Modelos de regresión (los 4 pedidos)\n",
    "from sklearn.neighbors import KNeighborsRegressor\n",
    "from sklearn.svm import SVR\n",
    "from sklearn.tree import DecisionTreeRegressor\n",
    "from sklearn.ensemble import RandomForestRegressor\n",
    "\n",
    "import warnings\n",
    "warnings.filterwarnings(\"ignore\")\n"
   ]
  },
  {
   "cell_type": "markdown",
   "id": "ec8b5ece",
   "metadata": {},
   "source": [
    "\n",
    "## 2) Carga de datos\n"
   ]
  },
  {
   "cell_type": "code",
   "execution_count": 4,
   "id": "b251e307",
   "metadata": {},
   "outputs": [
    {
     "data": {
      "text/html": [
       "<div>\n",
       "<style scoped>\n",
       "    .dataframe tbody tr th:only-of-type {\n",
       "        vertical-align: middle;\n",
       "    }\n",
       "\n",
       "    .dataframe tbody tr th {\n",
       "        vertical-align: top;\n",
       "    }\n",
       "\n",
       "    .dataframe thead th {\n",
       "        text-align: right;\n",
       "    }\n",
       "</style>\n",
       "<table border=\"1\" class=\"dataframe\">\n",
       "  <thead>\n",
       "    <tr style=\"text-align: right;\">\n",
       "      <th></th>\n",
       "      <th>Species</th>\n",
       "      <th>Weight</th>\n",
       "      <th>Length1</th>\n",
       "      <th>Length2</th>\n",
       "      <th>Length3</th>\n",
       "      <th>Height</th>\n",
       "      <th>Width</th>\n",
       "    </tr>\n",
       "  </thead>\n",
       "  <tbody>\n",
       "    <tr>\n",
       "      <th>0</th>\n",
       "      <td>Bream</td>\n",
       "      <td>242.0</td>\n",
       "      <td>23.2</td>\n",
       "      <td>25.4</td>\n",
       "      <td>30.0</td>\n",
       "      <td>11.5200</td>\n",
       "      <td>4.0200</td>\n",
       "    </tr>\n",
       "    <tr>\n",
       "      <th>1</th>\n",
       "      <td>Bream</td>\n",
       "      <td>290.0</td>\n",
       "      <td>24.0</td>\n",
       "      <td>26.3</td>\n",
       "      <td>31.2</td>\n",
       "      <td>12.4800</td>\n",
       "      <td>4.3056</td>\n",
       "    </tr>\n",
       "    <tr>\n",
       "      <th>2</th>\n",
       "      <td>Bream</td>\n",
       "      <td>340.0</td>\n",
       "      <td>23.9</td>\n",
       "      <td>26.5</td>\n",
       "      <td>31.1</td>\n",
       "      <td>12.3778</td>\n",
       "      <td>4.6961</td>\n",
       "    </tr>\n",
       "    <tr>\n",
       "      <th>3</th>\n",
       "      <td>Bream</td>\n",
       "      <td>363.0</td>\n",
       "      <td>26.3</td>\n",
       "      <td>29.0</td>\n",
       "      <td>33.5</td>\n",
       "      <td>12.7300</td>\n",
       "      <td>4.4555</td>\n",
       "    </tr>\n",
       "    <tr>\n",
       "      <th>4</th>\n",
       "      <td>Bream</td>\n",
       "      <td>430.0</td>\n",
       "      <td>26.5</td>\n",
       "      <td>29.0</td>\n",
       "      <td>34.0</td>\n",
       "      <td>12.4440</td>\n",
       "      <td>5.1340</td>\n",
       "    </tr>\n",
       "  </tbody>\n",
       "</table>\n",
       "</div>"
      ],
      "text/plain": [
       "  Species  Weight  Length1  Length2  Length3   Height   Width\n",
       "0   Bream   242.0     23.2     25.4     30.0  11.5200  4.0200\n",
       "1   Bream   290.0     24.0     26.3     31.2  12.4800  4.3056\n",
       "2   Bream   340.0     23.9     26.5     31.1  12.3778  4.6961\n",
       "3   Bream   363.0     26.3     29.0     33.5  12.7300  4.4555\n",
       "4   Bream   430.0     26.5     29.0     34.0  12.4440  5.1340"
      ]
     },
     "execution_count": 4,
     "metadata": {},
     "output_type": "execute_result"
    }
   ],
   "source": [
    "url = \"https://raw.githubusercontent.com/Ankit152/Fish-Market/refs/heads/main/Fish.csv\"\n",
    "df = pd.read_csv(url)\n",
    "df.head()"
   ]
  },
  {
   "cell_type": "markdown",
   "id": "98fbca06",
   "metadata": {},
   "source": [
    "\n",
    "## 3) EDA mínima\n"
   ]
  },
  {
   "cell_type": "code",
   "execution_count": 5,
   "id": "f7212d8c",
   "metadata": {},
   "outputs": [
    {
     "name": "stdout",
     "output_type": "stream",
     "text": [
      "Shape: (159, 7)\n",
      "\n",
      "Tipos:\n",
      " Species     object\n",
      "Weight     float64\n",
      "Length1    float64\n",
      "Length2    float64\n",
      "Length3    float64\n",
      "Height     float64\n",
      "Width      float64\n",
      "dtype: object\n",
      "\n",
      "Nulos por columna:\n",
      " Species    0\n",
      "Weight     0\n",
      "Length1    0\n",
      "Length2    0\n",
      "Length3    0\n",
      "Height     0\n",
      "Width      0\n",
      "dtype: int64\n"
     ]
    },
    {
     "data": {
      "text/html": [
       "<div>\n",
       "<style scoped>\n",
       "    .dataframe tbody tr th:only-of-type {\n",
       "        vertical-align: middle;\n",
       "    }\n",
       "\n",
       "    .dataframe tbody tr th {\n",
       "        vertical-align: top;\n",
       "    }\n",
       "\n",
       "    .dataframe thead th {\n",
       "        text-align: right;\n",
       "    }\n",
       "</style>\n",
       "<table border=\"1\" class=\"dataframe\">\n",
       "  <thead>\n",
       "    <tr style=\"text-align: right;\">\n",
       "      <th></th>\n",
       "      <th>count</th>\n",
       "      <th>mean</th>\n",
       "      <th>std</th>\n",
       "      <th>min</th>\n",
       "      <th>25%</th>\n",
       "      <th>50%</th>\n",
       "      <th>75%</th>\n",
       "      <th>max</th>\n",
       "    </tr>\n",
       "  </thead>\n",
       "  <tbody>\n",
       "    <tr>\n",
       "      <th>Weight</th>\n",
       "      <td>159.0</td>\n",
       "      <td>398.326415</td>\n",
       "      <td>357.978317</td>\n",
       "      <td>0.0000</td>\n",
       "      <td>120.00000</td>\n",
       "      <td>273.0000</td>\n",
       "      <td>650.0000</td>\n",
       "      <td>1650.000</td>\n",
       "    </tr>\n",
       "    <tr>\n",
       "      <th>Length1</th>\n",
       "      <td>159.0</td>\n",
       "      <td>26.247170</td>\n",
       "      <td>9.996441</td>\n",
       "      <td>7.5000</td>\n",
       "      <td>19.05000</td>\n",
       "      <td>25.2000</td>\n",
       "      <td>32.7000</td>\n",
       "      <td>59.000</td>\n",
       "    </tr>\n",
       "    <tr>\n",
       "      <th>Length2</th>\n",
       "      <td>159.0</td>\n",
       "      <td>28.415723</td>\n",
       "      <td>10.716328</td>\n",
       "      <td>8.4000</td>\n",
       "      <td>21.00000</td>\n",
       "      <td>27.3000</td>\n",
       "      <td>35.5000</td>\n",
       "      <td>63.400</td>\n",
       "    </tr>\n",
       "    <tr>\n",
       "      <th>Length3</th>\n",
       "      <td>159.0</td>\n",
       "      <td>31.227044</td>\n",
       "      <td>11.610246</td>\n",
       "      <td>8.8000</td>\n",
       "      <td>23.15000</td>\n",
       "      <td>29.4000</td>\n",
       "      <td>39.6500</td>\n",
       "      <td>68.000</td>\n",
       "    </tr>\n",
       "    <tr>\n",
       "      <th>Height</th>\n",
       "      <td>159.0</td>\n",
       "      <td>8.970994</td>\n",
       "      <td>4.286208</td>\n",
       "      <td>1.7284</td>\n",
       "      <td>5.94480</td>\n",
       "      <td>7.7860</td>\n",
       "      <td>12.3659</td>\n",
       "      <td>18.957</td>\n",
       "    </tr>\n",
       "    <tr>\n",
       "      <th>Width</th>\n",
       "      <td>159.0</td>\n",
       "      <td>4.417486</td>\n",
       "      <td>1.685804</td>\n",
       "      <td>1.0476</td>\n",
       "      <td>3.38565</td>\n",
       "      <td>4.2485</td>\n",
       "      <td>5.5845</td>\n",
       "      <td>8.142</td>\n",
       "    </tr>\n",
       "  </tbody>\n",
       "</table>\n",
       "</div>"
      ],
      "text/plain": [
       "         count        mean         std     min        25%       50%       75%  \\\n",
       "Weight   159.0  398.326415  357.978317  0.0000  120.00000  273.0000  650.0000   \n",
       "Length1  159.0   26.247170    9.996441  7.5000   19.05000   25.2000   32.7000   \n",
       "Length2  159.0   28.415723   10.716328  8.4000   21.00000   27.3000   35.5000   \n",
       "Length3  159.0   31.227044   11.610246  8.8000   23.15000   29.4000   39.6500   \n",
       "Height   159.0    8.970994    4.286208  1.7284    5.94480    7.7860   12.3659   \n",
       "Width    159.0    4.417486    1.685804  1.0476    3.38565    4.2485    5.5845   \n",
       "\n",
       "              max  \n",
       "Weight   1650.000  \n",
       "Length1    59.000  \n",
       "Length2    63.400  \n",
       "Length3    68.000  \n",
       "Height     18.957  \n",
       "Width       8.142  "
      ]
     },
     "metadata": {},
     "output_type": "display_data"
    },
    {
     "name": "stdout",
     "output_type": "stream",
     "text": [
      "\n",
      "Clases de 'Species':\n",
      "Species\n",
      "Perch        56\n",
      "Bream        35\n",
      "Roach        20\n",
      "Pike         17\n",
      "Smelt        14\n",
      "Parkki       11\n",
      "Whitefish     6\n",
      "Name: count, dtype: int64\n"
     ]
    }
   ],
   "source": [
    "print(\"Shape:\", df.shape)\n",
    "print(\"\\nTipos:\\n\", df.dtypes)\n",
    "print(\"\\nNulos por columna:\\n\", df.isna().sum())\n",
    "display(df.describe().T)\n",
    "\n",
    "print(\"\\nClases de 'Species':\")\n",
    "print(df['Species'].value_counts())"
   ]
  },
  {
   "cell_type": "markdown",
   "id": "9199771c",
   "metadata": {},
   "source": [
    "\n",
    "## 4) Selección de variables\n",
    "- **y (target):** `Weight`\n",
    "- **X (features):** `Length1`, `Length2`, `Length3`, `Height`, `Width`  \n",
    "(Dejamos fuera `Species` para centrarnos en un flujo de regresión con numéricas.)\n"
   ]
  },
  {
   "cell_type": "code",
   "execution_count": 6,
   "id": "494daea8",
   "metadata": {},
   "outputs": [
    {
     "data": {
      "text/plain": [
       "(   Length1  Length2  Length3   Height   Width\n",
       " 0     23.2     25.4     30.0  11.5200  4.0200\n",
       " 1     24.0     26.3     31.2  12.4800  4.3056\n",
       " 2     23.9     26.5     31.1  12.3778  4.6961\n",
       " 3     26.3     29.0     33.5  12.7300  4.4555\n",
       " 4     26.5     29.0     34.0  12.4440  5.1340,\n",
       " 0    242.0\n",
       " 1    290.0\n",
       " 2    340.0\n",
       " 3    363.0\n",
       " 4    430.0\n",
       " Name: Weight, dtype: float64)"
      ]
     },
     "execution_count": 6,
     "metadata": {},
     "output_type": "execute_result"
    }
   ],
   "source": [
    "target = \"Weight\"\n",
    "features = [\"Length1\", \"Length2\", \"Length3\", \"Height\", \"Width\"]\n",
    "\n",
    "X = df[features].copy()\n",
    "y = df[target].copy()\n",
    "\n",
    "X.head(), y.head()"
   ]
  },
  {
   "cell_type": "markdown",
   "id": "76138cf0",
   "metadata": {},
   "source": [
    "\n",
    "## 5) **TODO** — Train/Test split + Normalización\n",
    "1. Divide en train/test (por ejemplo `test_size=0.2`, `random_state=42`).  \n",
    "2. Aplica **StandardScaler** ajustando SOLO con `X_train` y transformando `X_train` y `X_test`.\n",
    "\n",
    "> ℹ️ **Nota:** KNN y SVR requieren **escalado** para funcionar bien. Para **DT** y **RF**, usaremos los datos **sin escalar**.\n"
   ]
  },
  {
   "cell_type": "code",
   "execution_count": 7,
   "id": "edba3035",
   "metadata": {},
   "outputs": [],
   "source": [
    "\n",
    "# =============\n",
    "# TODO: Split\n",
    "# =============\n",
    "# X_train, X_test, y_train, y_test = ...\n",
    "\n",
    "# =============\n",
    "# TODO: Escalado\n",
    "# =============\n",
    "# scaler = escalado estandar\n",
    "# X_train_scaled = ...fit y transform de X_train\n",
    "# X_test_scaled = ... transform de X_test\n",
    "\n",
    "\n"
   ]
  },
  {
   "cell_type": "markdown",
   "id": "f59e9c68",
   "metadata": {},
   "source": [
    "## PREGUNTAS PARA RESPONDER:\n",
    "\n",
    "1. Aparte del StandardScaler, ¿qué otros tipos de escalado conoces?\n",
    "2. Que diferencias hay entre ellos?\n",
    "3. ¿Por qué es importante ajustar el escalador solo con los datos de entrenamiento? \n",
    "4. Para que sirve la semilla aleatoria? "
   ]
  },
  {
   "cell_type": "markdown",
   "id": "8604ad53",
   "metadata": {},
   "source": [
    "\n",
    "## 6) Utilidad para métricas (MSE, MAE, RMSE, MAPE, R²)\n"
   ]
  },
  {
   "cell_type": "code",
   "execution_count": 8,
   "id": "d1dcd246",
   "metadata": {},
   "outputs": [],
   "source": [
    "\n",
    "def regression_metrics(y_true, y_pred):\n",
    "    \"\"\"\n",
    "    TODO prepara una funcion que calcule las metricas de regresion:\n",
    "    MAE, MSE, RMSE, MAPE, R2 \n",
    "    \"\"\"\n",
    "\n",
    "    return {\"MAE\": mae, \"MSE\": mse, \"RMSE\": rmse, \"MAPE\": mape, \"R2\": r2}\n"
   ]
  },
  {
   "cell_type": "markdown",
   "id": "090fddfb",
   "metadata": {},
   "source": [
    "### MAS PREGUNTAS PARA RESPONDER:\n",
    "1. Que aporta cada metrica?\n",
    "2. Cual es la mas importante?"
   ]
  },
  {
   "cell_type": "markdown",
   "id": "139a952b",
   "metadata": {},
   "source": [
    "\n",
    "## 7) Entrenamiento de modelos\n",
    "Iremos acumulando resultados en una lista `results` para la comparativa final.\n"
   ]
  },
  {
   "cell_type": "code",
   "execution_count": 9,
   "id": "54b4dc7a",
   "metadata": {},
   "outputs": [],
   "source": [
    "\n",
    "results = []\n"
   ]
  },
  {
   "cell_type": "markdown",
   "id": "dfe3e958",
   "metadata": {},
   "source": [
    "\n",
    "## 7) KNNRegressor\n",
    "\n",
    "https://www.ibm.com/es-es/think/topics/knn\n",
    "\n",
    "Instancia proporcionada. **Completa**: GridSearchCV (parrilla típica), `fit`, `predict`, métricas y guarda en `results` para comparar al final.\n"
   ]
  },
  {
   "cell_type": "code",
   "execution_count": 10,
   "id": "9e8c2901",
   "metadata": {},
   "outputs": [
    {
     "ename": "NameError",
     "evalue": "name 'mets' is not defined",
     "output_type": "error",
     "traceback": [
      "\u001b[1;31m---------------------------------------------------------------------------\u001b[0m",
      "\u001b[1;31mNameError\u001b[0m                                 Traceback (most recent call last)",
      "Cell \u001b[1;32mIn[10], line 24\u001b[0m\n\u001b[0;32m      4\u001b[0m model \u001b[38;5;241m=\u001b[39m KNeighborsRegressor()\n\u001b[0;32m      6\u001b[0m \u001b[38;5;66;03m# =====================\u001b[39;00m\n\u001b[0;32m      7\u001b[0m \u001b[38;5;66;03m# TODO: GridSearchCV\u001b[39;00m\n\u001b[0;32m      8\u001b[0m \u001b[38;5;66;03m# =====================\u001b[39;00m\n\u001b[1;32m   (...)\u001b[0m\n\u001b[0;32m     21\u001b[0m \u001b[38;5;66;03m# print(\"KNNRegressor -> ...hacemos un print con las metricas\u001b[39;00m\n\u001b[0;32m     22\u001b[0m \u001b[38;5;66;03m# best_knnregressor = ...guardamos el mejor predictor\u001b[39;00m\n\u001b[1;32m---> 24\u001b[0m results\u001b[38;5;241m.\u001b[39mappend({\u001b[38;5;124m\"\u001b[39m\u001b[38;5;124mmodelo\u001b[39m\u001b[38;5;124m\"\u001b[39m: \u001b[38;5;124m\"\u001b[39m\u001b[38;5;124mKNNRegressor\u001b[39m\u001b[38;5;124m\"\u001b[39m, \u001b[38;5;241m*\u001b[39m\u001b[38;5;241m*\u001b[39m\u001b[43mmets\u001b[49m}) \u001b[38;5;66;03m# guardamos los resultados de las metricas por si queremos comparar\u001b[39;00m\n",
      "\u001b[1;31mNameError\u001b[0m: name 'mets' is not defined"
     ]
    }
   ],
   "source": [
    "\n",
    "# =====================\n",
    "# Instanciación del modelo\n",
    "# =====================\n",
    "model = KNeighborsRegressor()\n",
    "\n",
    "# =====================\n",
    "# TODO: GridSearchCV\n",
    "# =====================\n",
    "# PISTA de param_grid (ajusta si lo ves):\n",
    "## {'n_neighbors': [3,5,7,9,15], 'weights': ['uniform','distance'], 'p': [1,2]}  # ejemplo\n",
    "# param_grid = ...\n",
    "# gsearch = GridSearchCV...\n",
    "# hacemos el fit del gsearch\n",
    "\n",
    "# =====================\n",
    "# TODO: Predicción y métricas\n",
    "# =====================\n",
    "# y_pred = ... obtenemos prediciones \n",
    "# mets = usamos la funcion de metricas para obtener metricas\n",
    "\n",
    "# print(\"KNNRegressor -> ...hacemos un print con las metricas\n",
    "# best_knnregressor = ...guardamos el mejor predictor\n",
    "\n",
    "results.append({\"modelo\": \"KNNRegressor\", **mets}) # guardamos los resultados de las metricas por si queremos comparar\n"
   ]
  },
  {
   "cell_type": "markdown",
   "id": "0cb8380e",
   "metadata": {},
   "source": [
    "### MAS PREGUNTAS PARA RESPONDER:\n",
    "1. ¿Que hiperparametros son los más importantes en KNNRegressor?\n",
    "2. Dice el profe que este modelo realmente no tiene un entrenamiento como tal, ¿a qué se refiere?\n",
    "3. ¿que otras distancias aparte de la euclidea conoces? ¿porque pueden ser interesantes?"
   ]
  },
  {
   "cell_type": "markdown",
   "id": "316066fc",
   "metadata": {},
   "source": [
    "\n",
    "## 7) SVR\n",
    "\n",
    "https://www.ibm.com/es-es/think/topics/support-vector-machine\n",
    "\n",
    "Instancia proporcionada. **Completa**: GridSearchCV (parrilla típica), `fit`, `predict`, métricas y guarda en `results` para comparar al final.\n"
   ]
  },
  {
   "cell_type": "code",
   "execution_count": null,
   "id": "3bd6289d",
   "metadata": {},
   "outputs": [],
   "source": [
    "\n",
    "# =====================\n",
    "# Instanciación del modelo\n",
    "# =====================\n",
    "model = SVR()\n",
    "\n",
    "# =====================\n",
    "# TODO: GridSearchCV\n",
    "# =====================\n",
    "# PISTA de param_grid :\n",
    "# # {'kernel': ..., 'C': ..., 'epsilon':..., 'gamma': ...}  # ejemplo\n",
    "\n",
    "\n",
    "# =====================\n",
    "# TODO: Predicción y métricas\n",
    "# =====================\n"
   ]
  },
  {
   "cell_type": "markdown",
   "id": "a2392db2",
   "metadata": {},
   "source": [
    "### PREGUNTAS PARA RESPONDER:\n",
    "1. ¿Qué papel juega el parámetro `C` en SVR?\n",
    "2. ¿Y el parámetro `epsilon`?\n",
    "3. ¿Qué diferencias hay entre los kernels `linear`, `poly` y `rbf`?"
   ]
  },
  {
   "cell_type": "markdown",
   "id": "93278949",
   "metadata": {},
   "source": [
    "## 7) DecisionTreeRegressor\n",
    "\n",
    "https://www.ibm.com/es-es/think/topics/decision-trees\n",
    "\n",
    "Instancia proporcionada. **Completa**: GridSearchCV (parrilla típica), `fit`, `predict`, métricas y guarda en `results` para comparar al final."
   ]
  },
  {
   "cell_type": "code",
   "execution_count": null,
   "id": "5b0f1d17",
   "metadata": {},
   "outputs": [],
   "source": [
    "\n",
    "# =====================\n",
    "# Instanciación del modelo\n",
    "# =====================\n",
    "model = DecisionTreeRegressor(random_state=42)\n",
    "\n",
    "# =====================\n",
    "# TODO: GridSearchCV\n",
    "# =====================\n",
    "# PISTA de param_grid:\n",
    "# # {'max_depth': ..., 'min_samples_split': ..., 'min_samples_leaf': ...}  # ejemplo\n",
    "\n",
    "\n",
    "# =====================\n",
    "# TODO: Predicción y métricas\n",
    "# =====================\n",
    "\n"
   ]
  },
  {
   "cell_type": "markdown",
   "id": "b5f09c1e",
   "metadata": {},
   "source": [
    "### PREGUNTAS PARA RESPONDER:\n",
    "1.- El profe dice que los árboles no necesitan escalado, ¿por qué?\n",
    "2.- ¿Qué papel juega el parámetro `max_depth`?"
   ]
  },
  {
   "cell_type": "markdown",
   "id": "7aae39ed",
   "metadata": {},
   "source": [
    "## 7) RandomForestRegressor\n",
    "\n",
    "https://www.ibm.com/es-es/think/topics/random-forest\n",
    "\n",
    "Instancia proporcionada. **Completa**: GridSearchCV (parrilla típica), `fit`, `predict`, métricas y guarda en `results` para comparar al final."
   ]
  },
  {
   "cell_type": "code",
   "execution_count": null,
   "id": "b5b165f9",
   "metadata": {},
   "outputs": [],
   "source": [
    "\n",
    "# =====================\n",
    "# Instanciación del modelo\n",
    "# =====================\n",
    "model = RandomForestRegressor(random_state=42)\n",
    "\n",
    "# =====================\n",
    "# TODO: GridSearchCV\n",
    "# =====================\n",
    "# PISTA de param_grid:\n",
    "# # {'n_estimators': ..., 'max_depth': ..., 'min_samples_split': ...}  # ejemplo\n",
    "\n",
    "\n",
    "# =====================\n",
    "# TODO: Predicción y métricas\n",
    "# =====================\n"
   ]
  },
  {
   "cell_type": "markdown",
   "id": "163e8ed1",
   "metadata": {},
   "source": [
    "### PREGUNTAS PARA RESPONDER:\n",
    "1. ¿por que 100 o 200 o 500 arboles son mejor que 1?\n",
    "2. ¿Qué condicion deben cumplir los arboles para que el conjunto funcione bien?"
   ]
  },
  {
   "cell_type": "markdown",
   "id": "02a7abba",
   "metadata": {},
   "source": [
    "\n",
    "## 8) **TODO** — Comparativa final\n",
    "Ordena por **RMSE** (menor es mejor) y/o muestra todas las métricas.\n"
   ]
  },
  {
   "cell_type": "code",
   "execution_count": null,
   "id": "5343ebc7",
   "metadata": {},
   "outputs": [],
   "source": [
    "\n",
    "# =============\n",
    "# TODO: Comparativa\n",
    "# =============\n",
    "# import pandas as pd\n",
    "# df_res = pd.DataFrame(results).sort_values(by=\"RMSE\", ascending=True)\n",
    "# display(df_res)\n",
    "\n",
    "# =====================\n",
    "# SOLUCIÓN (comentada)\n",
    "# =====================\n",
    "# import pandas as pd\n",
    "# df_res = pd.DataFrame(results).sort_values(by=\"RMSE\", ascending=True)\n",
    "# display(df_res)\n"
   ]
  },
  {
   "cell_type": "markdown",
   "id": "bd8f841a",
   "metadata": {},
   "source": [
    "## 9) Comenta la jugada\n",
    "\n",
    "1) Hablame de que significa cada metrica, que historia cuenta cada metrica en conjunto, como comparan unas metricas con otras.\n",
    "2) Que modelo es mejor y por qué. \n",
    "3) Que otras coonsideraciones podriamos tener en cuenta a la hora de elegir el modelo mas alla de las metricas.\n",
    "4) Que info util nos ofrecen los modelos entrenados. "
   ]
  },
  {
   "cell_type": "markdown",
   "id": "c3471da9",
   "metadata": {},
   "source": [
    "\n",
    "## 10) Extensiones\n",
    "- Añadir `Species` con One-Hot Encoding y comparar.\n",
    "- Que columnas podriamos crear/eliminar... feature engineering?\n",
    "- Sabrias dibujar un decission tree?\n",
    "\n"
   ]
  },
  {
   "cell_type": "code",
   "execution_count": null,
   "id": "38b58904",
   "metadata": {},
   "outputs": [],
   "source": [
    "# from sklearn.tree import DecisionTreeRegressor, plot_tree\n",
    "# plt.figure(figsize=(18, 10), dpi=120)\n",
    "# plot_tree(\n",
    "#     dt,\n",
    "#     feature_names=features,\n",
    "#     filled=True,          # colorea por valor\n",
    "#     rounded=True,         # nodos con bordes redondeados\n",
    "#     fontsize=10\n",
    "# )\n",
    "# plt.title(\"Decision Tree Regressor (max_depth=3, min_samples_leaf=5)\")\n",
    "# plt.show()"
   ]
  }
 ],
 "metadata": {
  "kernelspec": {
   "display_name": "test_env",
   "language": "python",
   "name": "python3"
  },
  "language_info": {
   "codemirror_mode": {
    "name": "ipython",
    "version": 3
   },
   "file_extension": ".py",
   "mimetype": "text/x-python",
   "name": "python",
   "nbconvert_exporter": "python",
   "pygments_lexer": "ipython3",
   "version": "3.10.18"
  }
 },
 "nbformat": 4,
 "nbformat_minor": 5
}
