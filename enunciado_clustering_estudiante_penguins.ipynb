{
  "cells": [
    {
      "cell_type": "markdown",
      "id": "0f3e8f3c",
      "metadata": {},
      "source": [
        "# Comparativa de Clustering: K-Means, DBSCAN y Jerárquico\n",
        "\n",
        "**Objetivo:** comparar tres métodos de clustering en un dataset real y elegir **el mejor** según el **coeficiente de silueta** (y **Elbow** solo para K-Means).\n",
        "\n",
        "**Dataset elegido:** **Palmer Penguins** (medidas de pingüinos) — datos libres y fáciles de obtener.\n",
        "\n",
        "- Página del proyecto: <https://allisonhorst.github.io/palmerpenguins/>\n",
        "- CSV directo (penguins_clean): <https://raw.githubusercontent.com/allisonhorst/palmerpenguins/master/inst/extdata/penguins_clean.csv>\n",
        "\n",
        "> Nota: **NO uses la columna de especie** (`species`) para entrenar (clustering es no supervisado). Se puede usr más tarde sólo para **interpretación** si lo deseas, pero **nunca** para ajustar los modelos.\n"
      ]
    },
    {
      "cell_type": "markdown",
      "id": "a520759d",
      "metadata": {},
      "source": [
        "## Requisitos\n",
        "- Trabajar siempre con **variables numéricas** y **datos escalados**.\n",
        "- Evaluación:\n",
        "  - **K-Means:** curva **Elbow** (inercia) para k=2..10 + **Silhouette** para k=2..10.\n",
        "  - **DBSCAN:** probar varias combinaciones de `eps` y `min_samples`; reportar **Silhouette**, nº de clústeres (excl. ruido) y % ruido.\n",
        "  - **Jerárquico:** probar `linkage` en {`ward`, `complete`, `average`} y k=2..10; reportar **Silhouette**.\n",
        "- Conclusión final: elige método y configuración (parámetros) y justifica **en 8–12 líneas**.\n",
        "\n",
        "**Importante (API de scikit-learn):**\n",
        "- `KMeans` **sí** tiene `.predict(X)` para etiquetar nuevos puntos.\n",
        "- `DBSCAN` y `AgglomerativeClustering` **no** tienen `.predict`. Usa `fit_predict(X)` y el atributo `.labels_` tras el ajuste.\n"
      ]
    },
    {
      "cell_type": "markdown",
      "id": "56b4c92e",
      "metadata": {},
      "source": [
        "## 0) Preparación del entorno\n",
        "- Necesitas tener instalado `pandas`, `numpy`, `scikit-learn`, `matplotlib`.\n",
        "- Fija `random_state=42` (u otro) cuando aplique para reproducibilidad.\n"
      ]
    },
    {
      "cell_type": "code",
      "execution_count": 1,
      "id": "1600abf6",
      "metadata": {},
      "outputs": [
        {
          "name": "stdout",
          "output_type": "stream",
          "text": [
            "Requirement already satisfied: scikit-learn in c:\\users\\pauuu\\miniconda3\\envs\\test_env\\lib\\site-packages (1.7.2)\n",
            "Requirement already satisfied: numpy>=1.22.0 in c:\\users\\pauuu\\miniconda3\\envs\\test_env\\lib\\site-packages (from scikit-learn) (2.2.6)\n",
            "Requirement already satisfied: scipy>=1.8.0 in c:\\users\\pauuu\\miniconda3\\envs\\test_env\\lib\\site-packages (from scikit-learn) (1.15.3)\n",
            "Requirement already satisfied: joblib>=1.2.0 in c:\\users\\pauuu\\miniconda3\\envs\\test_env\\lib\\site-packages (from scikit-learn) (1.5.2)\n",
            "Requirement already satisfied: threadpoolctl>=3.1.0 in c:\\users\\pauuu\\miniconda3\\envs\\test_env\\lib\\site-packages (from scikit-learn) (3.6.0)\n",
            "Note: you may need to restart the kernel to use updated packages.\n"
          ]
        }
      ],
      "source": [
        "pip install scikit-learn"
      ]
    },
    {
      "cell_type": "code",
      "execution_count": 66,
      "id": "5d6f07c3",
      "metadata": {},
      "outputs": [
        {
          "name": "stdout",
          "output_type": "stream",
          "text": [
            "Collecting tabulate\n",
            "  Downloading tabulate-0.9.0-py3-none-any.whl.metadata (34 kB)\n",
            "Downloading tabulate-0.9.0-py3-none-any.whl (35 kB)\n",
            "Installing collected packages: tabulate\n",
            "Successfully installed tabulate-0.9.0\n",
            "Note: you may need to restart the kernel to use updated packages.\n"
          ]
        },
        {
          "name": "stderr",
          "output_type": "stream",
          "text": [
            "  WARNING: The script tabulate.exe is installed in 'c:\\Users\\pauuu\\miniconda3\\envs\\test_env\\Scripts' which is not on PATH.\n",
            "  Consider adding this directory to PATH or, if you prefer to suppress this warning, use --no-warn-script-location.\n"
          ]
        }
      ],
      "source": [
        "pip install tabulate\n"
      ]
    },
    {
      "cell_type": "markdown",
      "id": "bb7aae59",
      "metadata": {},
      "source": [
        "## 1) Descarga y carga de datos\n",
        "1. Descarga el CSV desde la URL indicada.\n",
        "2. Cárgalo en un `DataFrame`.\n",
        "3. Inspecciona forma, nombres de columnas y tipos.\n",
        "4. Identifica columnas **numéricas** que usarás como `X` (excluye `species` y otras no numéricas).\n"
      ]
    },
    {
      "cell_type": "code",
      "execution_count": 68,
      "id": "b8824409",
      "metadata": {
        "tags": [
          "student-cell"
        ]
      },
      "outputs": [
        {
          "name": "stdout",
          "output_type": "stream",
          "text": [
            "    species     island  bill_length_mm  bill_depth_mm  flipper_length_mm  \\\n",
            "0    Adelie  Torgersen            39.1           18.7              181.0   \n",
            "1    Adelie  Torgersen            39.5           17.4              186.0   \n",
            "2    Adelie  Torgersen            40.3           18.0              195.0   \n",
            "3    Adelie  Torgersen             NaN            NaN                NaN   \n",
            "4    Adelie  Torgersen            36.7           19.3              193.0   \n",
            "..      ...        ...             ...            ...                ...   \n",
            "339  Gentoo     Biscoe             NaN            NaN                NaN   \n",
            "340  Gentoo     Biscoe            46.8           14.3              215.0   \n",
            "341  Gentoo     Biscoe            50.4           15.7              222.0   \n",
            "342  Gentoo     Biscoe            45.2           14.8              212.0   \n",
            "343  Gentoo     Biscoe            49.9           16.1              213.0   \n",
            "\n",
            "     body_mass_g     sex  \n",
            "0         3750.0    MALE  \n",
            "1         3800.0  FEMALE  \n",
            "2         3250.0  FEMALE  \n",
            "3            NaN     NaN  \n",
            "4         3450.0  FEMALE  \n",
            "..           ...     ...  \n",
            "339          NaN     NaN  \n",
            "340       4850.0  FEMALE  \n",
            "341       5750.0    MALE  \n",
            "342       5200.0  FEMALE  \n",
            "343       5400.0    MALE  \n",
            "\n",
            "[344 rows x 7 columns]\n",
            "(344, 7)\n",
            "Index(['species', 'island', 'bill_length_mm', 'bill_depth_mm',\n",
            "       'flipper_length_mm', 'body_mass_g', 'sex'],\n",
            "      dtype='object')\n",
            "species               object\n",
            "island                object\n",
            "bill_length_mm       float64\n",
            "bill_depth_mm        float64\n",
            "flipper_length_mm    float64\n",
            "body_mass_g          float64\n",
            "sex                   object\n",
            "dtype: object\n"
          ]
        }
      ],
      "source": [
        "#Imports necesarios\n",
        "import pandas as pd\n",
        "import matplotlib.pyplot as plt\n",
        "import numpy as np\n",
        "from sklearn.preprocessing import StandardScaler\n",
        "from sklearn.cluster import KMeans\n",
        "from sklearn.metrics import silhouette_score\n",
        "from sklearn.cluster import DBSCAN\n",
        "from sklearn.cluster import AgglomerativeClustering\n",
        "\n",
        "#Importar el csv y leerlo\n",
        "data = \"https://raw.githubusercontent.com/mwaskom/seaborn-data/master/penguins.csv\"\n",
        "df = pd.read_csv(data)\n",
        "\n",
        "print(df)\n",
        "print(df.shape)\n",
        "print(df.columns)\n",
        "print(df.dtypes)\n",
        "\n"
      ]
    },
    {
      "cell_type": "code",
      "execution_count": null,
      "id": "a7ae78a2",
      "metadata": {},
      "outputs": [
        {
          "data": {
            "text/plain": [
              "Index(['species', 'island', 'bill_length_mm', 'bill_depth_mm',\n",
              "       'flipper_length_mm', 'body_mass_g', 'sex'],\n",
              "      dtype='object')"
            ]
          },
          "execution_count": 46,
          "metadata": {},
          "output_type": "execute_result"
        }
      ],
      "source": [
        "df.columns #Para ver las columnas del csv. Así podremos eliminar las columnas que no queremos tener en cuenta"
      ]
    },
    {
      "cell_type": "code",
      "execution_count": null,
      "id": "2e915ca3",
      "metadata": {},
      "outputs": [],
      "source": [
        "X = df[['bill_length_mm', 'bill_depth_mm',\n",
        "       'flipper_length_mm', 'body_mass_g']] #Columnas no numéricas eliminadas :)"
      ]
    },
    {
      "cell_type": "code",
      "execution_count": null,
      "id": "35e876f7",
      "metadata": {},
      "outputs": [
        {
          "data": {
            "text/html": [
              "<div>\n",
              "<style scoped>\n",
              "    .dataframe tbody tr th:only-of-type {\n",
              "        vertical-align: middle;\n",
              "    }\n",
              "\n",
              "    .dataframe tbody tr th {\n",
              "        vertical-align: top;\n",
              "    }\n",
              "\n",
              "    .dataframe thead th {\n",
              "        text-align: right;\n",
              "    }\n",
              "</style>\n",
              "<table border=\"1\" class=\"dataframe\">\n",
              "  <thead>\n",
              "    <tr style=\"text-align: right;\">\n",
              "      <th></th>\n",
              "      <th>bill_length_mm</th>\n",
              "      <th>bill_depth_mm</th>\n",
              "      <th>flipper_length_mm</th>\n",
              "      <th>body_mass_g</th>\n",
              "    </tr>\n",
              "  </thead>\n",
              "  <tbody>\n",
              "    <tr>\n",
              "      <th>0</th>\n",
              "      <td>39.1</td>\n",
              "      <td>18.7</td>\n",
              "      <td>181.0</td>\n",
              "      <td>3750.0</td>\n",
              "    </tr>\n",
              "    <tr>\n",
              "      <th>1</th>\n",
              "      <td>39.5</td>\n",
              "      <td>17.4</td>\n",
              "      <td>186.0</td>\n",
              "      <td>3800.0</td>\n",
              "    </tr>\n",
              "    <tr>\n",
              "      <th>2</th>\n",
              "      <td>40.3</td>\n",
              "      <td>18.0</td>\n",
              "      <td>195.0</td>\n",
              "      <td>3250.0</td>\n",
              "    </tr>\n",
              "    <tr>\n",
              "      <th>3</th>\n",
              "      <td>NaN</td>\n",
              "      <td>NaN</td>\n",
              "      <td>NaN</td>\n",
              "      <td>NaN</td>\n",
              "    </tr>\n",
              "    <tr>\n",
              "      <th>4</th>\n",
              "      <td>36.7</td>\n",
              "      <td>19.3</td>\n",
              "      <td>193.0</td>\n",
              "      <td>3450.0</td>\n",
              "    </tr>\n",
              "    <tr>\n",
              "      <th>...</th>\n",
              "      <td>...</td>\n",
              "      <td>...</td>\n",
              "      <td>...</td>\n",
              "      <td>...</td>\n",
              "    </tr>\n",
              "    <tr>\n",
              "      <th>339</th>\n",
              "      <td>NaN</td>\n",
              "      <td>NaN</td>\n",
              "      <td>NaN</td>\n",
              "      <td>NaN</td>\n",
              "    </tr>\n",
              "    <tr>\n",
              "      <th>340</th>\n",
              "      <td>46.8</td>\n",
              "      <td>14.3</td>\n",
              "      <td>215.0</td>\n",
              "      <td>4850.0</td>\n",
              "    </tr>\n",
              "    <tr>\n",
              "      <th>341</th>\n",
              "      <td>50.4</td>\n",
              "      <td>15.7</td>\n",
              "      <td>222.0</td>\n",
              "      <td>5750.0</td>\n",
              "    </tr>\n",
              "    <tr>\n",
              "      <th>342</th>\n",
              "      <td>45.2</td>\n",
              "      <td>14.8</td>\n",
              "      <td>212.0</td>\n",
              "      <td>5200.0</td>\n",
              "    </tr>\n",
              "    <tr>\n",
              "      <th>343</th>\n",
              "      <td>49.9</td>\n",
              "      <td>16.1</td>\n",
              "      <td>213.0</td>\n",
              "      <td>5400.0</td>\n",
              "    </tr>\n",
              "  </tbody>\n",
              "</table>\n",
              "<p>344 rows × 4 columns</p>\n",
              "</div>"
            ],
            "text/plain": [
              "     bill_length_mm  bill_depth_mm  flipper_length_mm  body_mass_g\n",
              "0              39.1           18.7              181.0       3750.0\n",
              "1              39.5           17.4              186.0       3800.0\n",
              "2              40.3           18.0              195.0       3250.0\n",
              "3               NaN            NaN                NaN          NaN\n",
              "4              36.7           19.3              193.0       3450.0\n",
              "..              ...            ...                ...          ...\n",
              "339             NaN            NaN                NaN          NaN\n",
              "340            46.8           14.3              215.0       4850.0\n",
              "341            50.4           15.7              222.0       5750.0\n",
              "342            45.2           14.8              212.0       5200.0\n",
              "343            49.9           16.1              213.0       5400.0\n",
              "\n",
              "[344 rows x 4 columns]"
            ]
          },
          "execution_count": 48,
          "metadata": {},
          "output_type": "execute_result"
        }
      ],
      "source": [
        "X"
      ]
    },
    {
      "cell_type": "code",
      "execution_count": null,
      "id": "f8f155b5",
      "metadata": {},
      "outputs": [],
      "source": []
    },
    {
      "cell_type": "markdown",
      "id": "a3762b8c",
      "metadata": {},
      "source": [
        "## 2) Limpieza mínima y normalización\n",
        "1. Elimina duplicados y filas con nulos en las columnas numéricas escogidas.\n",
        "2. **Estandariza** (`StandardScaler`) para tener media 0 y varianza 1.\n",
        "3. Guarda el array escalado como `X_scaled` (será tu base para todos los modelos).\n",
        "\n",
        "> **Por qué escalamos:** Todas las distancias (Euclídeas) y medidas de densidad de los modelos dependen de la escala; mezclar variables en escalas distintas sesga los resultados.\n"
      ]
    },
    {
      "cell_type": "code",
      "execution_count": 49,
      "id": "b6e53543",
      "metadata": {
        "tags": [
          "student-cell"
        ]
      },
      "outputs": [],
      "source": [
        "# TODO: Limpieza básica (drop_duplicates / dropna) y escalado con StandardScaler\n",
        "# \n",
        "# scaler = ...\n",
        "# X_scaled = ...\n",
        "# print(X.shape, '->', X_scaled.shape)\n"
      ]
    },
    {
      "cell_type": "code",
      "execution_count": null,
      "id": "a6b4e3e7",
      "metadata": {},
      "outputs": [
        {
          "data": {
            "text/html": [
              "<div>\n",
              "<style scoped>\n",
              "    .dataframe tbody tr th:only-of-type {\n",
              "        vertical-align: middle;\n",
              "    }\n",
              "\n",
              "    .dataframe tbody tr th {\n",
              "        vertical-align: top;\n",
              "    }\n",
              "\n",
              "    .dataframe thead th {\n",
              "        text-align: right;\n",
              "    }\n",
              "</style>\n",
              "<table border=\"1\" class=\"dataframe\">\n",
              "  <thead>\n",
              "    <tr style=\"text-align: right;\">\n",
              "      <th></th>\n",
              "      <th>bill_length_mm</th>\n",
              "      <th>bill_depth_mm</th>\n",
              "      <th>flipper_length_mm</th>\n",
              "      <th>body_mass_g</th>\n",
              "    </tr>\n",
              "  </thead>\n",
              "  <tbody>\n",
              "    <tr>\n",
              "      <th>0</th>\n",
              "      <td>39.1</td>\n",
              "      <td>18.7</td>\n",
              "      <td>181.0</td>\n",
              "      <td>3750.0</td>\n",
              "    </tr>\n",
              "    <tr>\n",
              "      <th>1</th>\n",
              "      <td>39.5</td>\n",
              "      <td>17.4</td>\n",
              "      <td>186.0</td>\n",
              "      <td>3800.0</td>\n",
              "    </tr>\n",
              "    <tr>\n",
              "      <th>2</th>\n",
              "      <td>40.3</td>\n",
              "      <td>18.0</td>\n",
              "      <td>195.0</td>\n",
              "      <td>3250.0</td>\n",
              "    </tr>\n",
              "    <tr>\n",
              "      <th>4</th>\n",
              "      <td>36.7</td>\n",
              "      <td>19.3</td>\n",
              "      <td>193.0</td>\n",
              "      <td>3450.0</td>\n",
              "    </tr>\n",
              "    <tr>\n",
              "      <th>5</th>\n",
              "      <td>39.3</td>\n",
              "      <td>20.6</td>\n",
              "      <td>190.0</td>\n",
              "      <td>3650.0</td>\n",
              "    </tr>\n",
              "    <tr>\n",
              "      <th>...</th>\n",
              "      <td>...</td>\n",
              "      <td>...</td>\n",
              "      <td>...</td>\n",
              "      <td>...</td>\n",
              "    </tr>\n",
              "    <tr>\n",
              "      <th>338</th>\n",
              "      <td>47.2</td>\n",
              "      <td>13.7</td>\n",
              "      <td>214.0</td>\n",
              "      <td>4925.0</td>\n",
              "    </tr>\n",
              "    <tr>\n",
              "      <th>340</th>\n",
              "      <td>46.8</td>\n",
              "      <td>14.3</td>\n",
              "      <td>215.0</td>\n",
              "      <td>4850.0</td>\n",
              "    </tr>\n",
              "    <tr>\n",
              "      <th>341</th>\n",
              "      <td>50.4</td>\n",
              "      <td>15.7</td>\n",
              "      <td>222.0</td>\n",
              "      <td>5750.0</td>\n",
              "    </tr>\n",
              "    <tr>\n",
              "      <th>342</th>\n",
              "      <td>45.2</td>\n",
              "      <td>14.8</td>\n",
              "      <td>212.0</td>\n",
              "      <td>5200.0</td>\n",
              "    </tr>\n",
              "    <tr>\n",
              "      <th>343</th>\n",
              "      <td>49.9</td>\n",
              "      <td>16.1</td>\n",
              "      <td>213.0</td>\n",
              "      <td>5400.0</td>\n",
              "    </tr>\n",
              "  </tbody>\n",
              "</table>\n",
              "<p>342 rows × 4 columns</p>\n",
              "</div>"
            ],
            "text/plain": [
              "     bill_length_mm  bill_depth_mm  flipper_length_mm  body_mass_g\n",
              "0              39.1           18.7              181.0       3750.0\n",
              "1              39.5           17.4              186.0       3800.0\n",
              "2              40.3           18.0              195.0       3250.0\n",
              "4              36.7           19.3              193.0       3450.0\n",
              "5              39.3           20.6              190.0       3650.0\n",
              "..              ...            ...                ...          ...\n",
              "338            47.2           13.7              214.0       4925.0\n",
              "340            46.8           14.3              215.0       4850.0\n",
              "341            50.4           15.7              222.0       5750.0\n",
              "342            45.2           14.8              212.0       5200.0\n",
              "343            49.9           16.1              213.0       5400.0\n",
              "\n",
              "[342 rows x 4 columns]"
            ]
          },
          "execution_count": 50,
          "metadata": {},
          "output_type": "execute_result"
        }
      ],
      "source": [
        "#Eliminamos duplicados y escalamos\n",
        "X = X.drop_duplicates().dropna()\n",
        "scaler = StandardScaler()\n",
        "X_scaled = scaler.fit_transform(X)\n",
        "\n",
        "X"
      ]
    },
    {
      "cell_type": "markdown",
      "id": "31447b83",
      "metadata": {},
      "source": [
        "## 3) K-Means\n",
        "**Objetivo:**\n",
        "- Bucle `k` en 2..10.\n",
        "- Guardar por cada `k`: **inercia** (suma de distancias al centroide) y **Silhouette**.\n",
        "- Seleccionar `k` final apoyándote en **Elbow** + **Silhouette**.\n",
        "\n",
        "**Indicaciones específicas:**\n",
        "- Usa `KMeans(n_clusters=k, random_state=42)`.\n",
        "- Tras ajustar, obtén etiquetas con `.labels_` o usando `.predict(X_scaled)`.\n",
        "- Para Silhouette: `sklearn.metrics.silhouette_score(X_scaled, labels)`.\n",
        "- Traza **Inercia vs k** y **Silhouette vs k** (dos gráficos separados). Explica en 2-3 líneas tu elección de `k`.\n"
      ]
    },
    {
      "cell_type": "code",
      "execution_count": 51,
      "id": "1943b918",
      "metadata": {
        "tags": [
          "student-cell"
        ]
      },
      "outputs": [],
      "source": [
        "# TODO: Bucle K-Means para k=2..10, guardar inercia y silhouette\n",
        "# TODO: Graficar Elbow (inercia vs k) y Silhouette vs k\n",
        "# TODO: Elegir k_final y ajustar modelo final; obtener labels_kmeans\n"
      ]
    },
    {
      "cell_type": "code",
      "execution_count": 72,
      "id": "6445223a",
      "metadata": {},
      "outputs": [],
      "source": [
        "inercia = []\n",
        "silhouette = []\n",
        "\n",
        "#Bucle K-Means para k=2..10, guardamos inercia y silhouette\n",
        "for k in range(2, 11):\n",
        "    modelo = KMeans(n_clusters=k, random_state=42)\n",
        "    etiquetas = modelo.fit_predict(X_scaled)\n",
        "    inercia.append(modelo.inertia_)#inercia\n",
        "    silhouette.append(silhouette_score(X_scaled, etiquetas))#silhouette"
      ]
    },
    {
      "cell_type": "code",
      "execution_count": 75,
      "id": "33826570",
      "metadata": {},
      "outputs": [
        {
          "data": {
            "image/png": "[encoded data removed]",
            "text/plain": [
              "<Figure size 640x480 with 1 Axes>"
            ]
          },
          "metadata": {},
          "output_type": "display_data"
        }
      ],
      "source": [
        "\n",
        "#Gráfica Elbow\n",
        "plt.plot(range(2, 11), inercia, marker='o', color='mediumvioletred')\n",
        "plt.title(\"Elbow\")\n",
        "plt.xlabel(\"k\")\n",
        "plt.ylabel(\"Inercia\")\n",
        "plt.show()\n"
      ]
    },
    {
      "cell_type": "code",
      "execution_count": 74,
      "id": "7fc38af5",
      "metadata": {},
      "outputs": [
        {
          "data": {
            "image/png": "[encoded data removed]",
            "text/plain": [
              "<Figure size 640x480 with 1 Axes>"
            ]
          },
          "metadata": {},
          "output_type": "display_data"
        }
      ],
      "source": [
        "#Gráfica Silhouette\n",
        "plt.plot(range(2, 11), silhouette, marker='o', color='magenta')\n",
        "plt.title(\"Silhouette vs k\")\n",
        "plt.xlabel(\"k\")\n",
        "plt.ylabel(\"Silhouette\")\n",
        "plt.show()\n"
      ]
    },
    {
      "cell_type": "markdown",
      "id": "b10c99b6",
      "metadata": {},
      "source": [
        "El valor óptimo es k=2 porque presenta el mayor score de Silhouette (~0.50), indicando que los datos se agrupan naturalmente en dos clusters bien definidos y separados."
      ]
    },
    {
      "cell_type": "markdown",
      "id": "defe60e4",
      "metadata": {},
      "source": [
        "## 4) DBSCAN\n",
        "**Objetivo:** explorar `eps` y `min_samples` en una rejilla pequeña y comparar resultados.\n",
        "\n",
        "**Indicaciones específicas:**\n",
        "- Probar `eps` en valores razonables (por ejemplo: 0.3, 0.5, 0.7, 0.9) y `min_samples` en {3, 5, 7}.\n",
        "- Para cada combinación: ajusta con `DBSCAN(eps=?, min_samples=?)` sobre `X_scaled`.\n",
        "- Extrae etiquetas con `.labels_`.\n",
        "- Calcula **nº de clústeres** (excluyendo `-1`) y **% de ruido** (`label == -1`).\n",
        "- Calcula **Silhouette** **solo si** hay al menos **2** clústeres válidos (sin contar ruido). Si no, anota \"no aplicable\".\n",
        "- Elige una combinación final y justifica.\n"
      ]
    },
    {
      "cell_type": "code",
      "execution_count": null,
      "id": "26270368",
      "metadata": {
        "tags": [
          "student-cell"
        ]
      },
      "outputs": [],
      "source": [
        "# TODO: Para cada combinación, registrar #clusters válidos, %ruido y silhouette (si aplica)\n",
        "# TODO: Elegir configuración final; obtener labels_dbscan\n"
      ]
    },
    {
      "cell_type": "code",
      "execution_count": 76,
      "id": "19c488b1",
      "metadata": {},
      "outputs": [],
      "source": [
        "#Grid pequeño de DBSCAN\n",
        "eps_values = [0.3, 0.5, 0.7, 0.9] #eps\n",
        "min_samples_values = [3, 5, 7] #min_samples\n",
        "\n",
        "resultados = []\n"
      ]
    },
    {
      "cell_type": "code",
      "execution_count": 77,
      "id": "e0040831",
      "metadata": {},
      "outputs": [
        {
          "name": "stdout",
          "output_type": "stream",
          "text": [
            "eps=0.3, min_samples=3 -> clusters=21, ruido=67.25%, silhouette=-0.36900253822505574\n",
            "eps=0.3, min_samples=5 -> clusters=4, ruido=92.69%, silhouette=-0.4202739227102219\n",
            "eps=0.3, min_samples=7 -> clusters=0, ruido=100.00%, silhouette=no aplicable\n",
            "eps=0.5, min_samples=3 -> clusters=4, ruido=15.20%, silhouette=0.3102027802642288\n",
            "eps=0.5, min_samples=5 -> clusters=4, ruido=20.18%, silhouette=0.24958450441909963\n",
            "eps=0.5, min_samples=7 -> clusters=4, ruido=26.61%, silhouette=0.20436382873876371\n",
            "eps=0.7, min_samples=3 -> clusters=3, ruido=2.92%, silhouette=0.37817093159599635\n",
            "eps=0.7, min_samples=5 -> clusters=2, ruido=4.68%, silhouette=0.45331286542572347\n",
            "eps=0.7, min_samples=7 -> clusters=2, ruido=5.26%, silhouette=0.44103077846666194\n",
            "eps=0.9, min_samples=3 -> clusters=2, ruido=0.58%, silhouette=0.45377408602047503\n",
            "eps=0.9, min_samples=5 -> clusters=2, ruido=0.58%, silhouette=0.45377408602047503\n",
            "eps=0.9, min_samples=7 -> clusters=2, ruido=0.88%, silhouette=0.5128358008930426\n"
          ]
        }
      ],
      "source": [
        "#Para cada combinación, registramos clusters válidos, porcentaje de ruido y silhouette\n",
        "for eps in eps_values:\n",
        "    for min_s in min_samples_values:\n",
        "        db = DBSCAN(eps=eps, min_samples=min_s)\n",
        "        etiquetas = db.fit_predict(X_scaled)\n",
        "        \n",
        "        n_clusters = len(set(etiquetas)) - (1 if -1 in etiquetas else 0)\n",
        "        ruido = np.mean(etiquetas == -1) * 100\n",
        "        \n",
        "        if n_clusters >= 2:\n",
        "            sil = silhouette_score(X_scaled, etiquetas)\n",
        "        else:\n",
        "            sil = \"no aplicable\"\n",
        "        \n",
        "        resultados.append((eps, min_s, n_clusters, round(ruido, 2), sil))\n",
        "        print(f\"eps={eps}, min_samples={min_s} -> clusters={n_clusters}, ruido={ruido:.2f}%, silhouette={sil}\")\n",
        "\n",
        "\n"
      ]
    },
    {
      "cell_type": "code",
      "execution_count": 79,
      "id": "c25ccefc",
      "metadata": {},
      "outputs": [
        {
          "name": "stdout",
          "output_type": "stream",
          "text": [
            "=== RESULTADOS FINALES DBSCAN ===\n",
            "Clústeres encontrados: 4\n",
            "Puntos de ruido: 69 (20.2%)\n",
            "Etiquetas únicas: [-1  0  1  2  3]\n"
          ]
        }
      ],
      "source": [
        "print(\"=== RESULTADOS FINALES DBSCAN ===\")\n",
        "print(f\"Clústeres encontrados: {n_clusters_dbscan}\")\n",
        "print(f\"Puntos de ruido: {n_ruido} ({pct_ruido:.1f}%)\")\n",
        "print(f\"Etiquetas únicas: {np.unique(labels_dbscan)}\")"
      ]
    },
    {
      "cell_type": "markdown",
      "id": "491c60f4",
      "metadata": {},
      "source": [
        "## 5) Aglomerativo Jerárquico\n",
        "**Objetivo:** probar distintas reglas de enlace y diferentes `k`.\n",
        "\n",
        "**Indicaciones específicas:**\n",
        "- Probar `linkage` en {`ward`, `complete`, `average`}.\n",
        "- Para cada `linkage`, probar `n_clusters` en 2..10.\n",
        "- Ajustar con `AgglomerativeClustering(n_clusters=k, linkage=..., metric='euclidean')`.\n",
        "- Obtener etiquetas con `.fit_predict(X_scaled)` o del atributo `.labels_`.\n",
        "- Calcular **Silhouette** y registrar los resultados en una tabla.\n",
        "- Elegir la pareja (linkage, k) final y justificar.\n",
        "\n",
        "> Recordatorio: `ward` requiere métrica euclídea (en scikit-learn es implícita). No hay `.predict()` para nuevos datos.\n"
      ]
    },
    {
      "cell_type": "code",
      "execution_count": null,
      "id": "22c6acd5",
      "metadata": {},
      "outputs": [
        {
          "name": "stdout",
          "output_type": "stream",
          "text": [
            "ward 2 0.5315403219473027\n",
            "ward 3 0.4540949927732963\n",
            "ward 4 0.41759543872859245\n",
            "ward 5 0.3631606043946167\n",
            "ward 6 0.33463066997619606\n",
            "ward 7 0.30539505472885925\n",
            "ward 8 0.25881589819961465\n",
            "ward 9 0.26348924685637704\n",
            "ward 10 0.26468700669792894\n",
            "complete 2 0.5315403219473027\n",
            "complete 3 0.45155394564944945\n",
            "complete 4 0.39416748114484973\n",
            "complete 5 0.34866841783325153\n",
            "complete 6 0.3266145011367707\n",
            "complete 7 0.3047964034652521\n",
            "complete 8 0.2823181244861986\n",
            "complete 9 0.24748180907382497\n",
            "complete 10 0.25603052079433314\n",
            "average 2 0.5315403219473027\n",
            "average 3 0.441616990646033\n",
            "average 4 0.3858558505512247\n",
            "average 5 0.36813700671604244\n",
            "average 6 0.34579510473363095\n",
            "average 7 0.31052553285707546\n",
            "average 8 0.30306764445300566\n",
            "average 9 0.2849167961304409\n",
            "average 10 0.28581221245833316\n",
            "     linkage   k  silhouette\n",
            "0       ward   2    0.531540\n",
            "1       ward   3    0.454095\n",
            "2       ward   4    0.417595\n",
            "3       ward   5    0.363161\n",
            "4       ward   6    0.334631\n",
            "5       ward   7    0.305395\n",
            "6       ward   8    0.258816\n",
            "7       ward   9    0.263489\n",
            "8       ward  10    0.264687\n",
            "9   complete   2    0.531540\n",
            "10  complete   3    0.451554\n",
            "11  complete   4    0.394167\n",
            "12  complete   5    0.348668\n",
            "13  complete   6    0.326615\n",
            "14  complete   7    0.304796\n",
            "15  complete   8    0.282318\n",
            "16  complete   9    0.247482\n",
            "17  complete  10    0.256031\n",
            "18   average   2    0.531540\n",
            "19   average   3    0.441617\n",
            "20   average   4    0.385856\n",
            "21   average   5    0.368137\n",
            "22   average   6    0.345795\n",
            "23   average   7    0.310526\n",
            "24   average   8    0.303068\n",
            "25   average   9    0.284917\n",
            "26   average  10    0.285812\n",
            "Mejor combinación: ward 2 Silhouette: 0.532\n"
          ]
        }
      ],
      "source": [
        "linkages = ['ward', 'complete', 'average']\n",
        "resultados = []\n",
        "\n",
        "#Bucle Agglomerative linkage en {'ward', 'complete', average'} y k=2..10\n",
        "for link in linkages:\n",
        "    for k in range(2, 11):\n",
        "        modelo = AgglomerativeClustering(n_clusters=k, linkage=link)\n",
        "        etiquetas = modelo.fit_predict(X_scaled)\n",
        "        sil = silhouette_score(X_scaled, etiquetas)\n",
        "        resultados.append([link, k, sil])\n",
        "        print(link, k, sil)\n",
        "\n",
        "# Convertir a DataFrame\n",
        "tabla = pd.DataFrame(resultados, columns=['linkage', 'k', 'silhouette'])\n",
        "print(tabla)\n",
        "\n",
        "# Calcular silhouette para cada combinación y elegir la mejor\n",
        "mejor = tabla.loc[tabla['silhouette'].idxmax()]\n",
        "link_final = mejor['linkage']\n",
        "k_final = int(mejor['k'])\n",
        "\n",
        "agglom_final = AgglomerativeClustering(n_clusters=k_final, linkage=link_final)\n",
        "labels_agglom = agglom_final.fit_predict(X_scaled)\n",
        "\n",
        "print(\"Mejor combinación:\", link_final, k_final, \"Silhouette:\", round(mejor['silhouette'],3))\n"
      ]
    },
    {
      "cell_type": "markdown",
      "id": "572566be",
      "metadata": {},
      "source": [
        "## 6) Comparativa y Conclusión\n",
        "1. Resume en una **tabla** el **mejor** resultado de cada método (método, parámetros, silhouette, nº de clústeres y notas relevantes como % ruido en DBSCAN).\n",
        "2. Escribe una **conclusión de 8–12 líneas** justificando el **método ganador** para estos datos y por qué descartas las alternativas (forma de clústeres, sensibilidad a parámetros, presencia de ruido/outliers, etc.).\n"
      ]
    },
    {
      "cell_type": "code",
      "execution_count": null,
      "id": "9baebd90",
      "metadata": {},
      "outputs": [
        {
          "name": "stdout",
          "output_type": "stream",
          "text": [
            "| Método       | Parámetros             |   Silhouette |   Nº clusters | Notas                                            |\n",
            "|:-------------|:-----------------------|-------------:|--------------:|:-------------------------------------------------|\n",
            "| K-Means      | k=2                    |        0.447 |             3 | Clusters bien definidos, sensible a escala       |\n",
            "| DBSCAN       | eps=0.5, min_samples=5 |        0.25  |             4 | Ruido: 20.18%, sensible a eps                    |\n",
            "| Aglomerativo | linkage=ward, k=2      |        0.532 |             2 | Clusters jerárquicos, flexible, buena separación |\n"
          ]
        }
      ],
      "source": [
        "db = DBSCAN(eps=0.5, min_samples=5)\n",
        "labels_dbscan = db.fit_predict(X_scaled)\n",
        "\n",
        "n_clusters_db = len(set(labels_dbscan)) - (1 if -1 in labels_dbscan else 0)\n",
        "porcentaje_ruido = np.mean(labels_dbscan == -1) * 100\n",
        "\n",
        "if n_clusters_db >= 2:\n",
        "    sil_db = silhouette_score(X_scaled, labels_dbscan)\n",
        "else:\n",
        "    sil_db = \"no aplicable\"\n",
        "\n",
        "#Tabla\n",
        "comparativa = pd.DataFrame({\n",
        "    \"Método\": [\"K-Means\", \"DBSCAN\", \"Aglomerativo\"],\n",
        "    \"Parámetros\": [\n",
        "        f\"k={k_final}\", \n",
        "        f\"eps=0.5, min_samples=5\",\n",
        "        f\"linkage={link_final}, k={k_final}\"\n",
        "    ],\n",
        "    \"Silhouette\": [\n",
        "        round(silhouette_score(X_scaled, labels_kmeans), 3),\n",
        "        sil_db if isinstance(sil_db, str) else round(sil_db,3),\n",
        "        round(silhouette_score(X_scaled, labels_agglom),3)\n",
        "    ],\n",
        "    \"Nº clusters\": [\n",
        "        len(set(labels_kmeans)),\n",
        "        n_clusters_db,\n",
        "        len(set(labels_agglom))\n",
        "    ],\n",
        "    \"Notas\": [\n",
        "        \"Clusters bien definidos, sensible a escala\",\n",
        "        f\"Ruido: {round(porcentaje_ruido,2)}%, sensible a eps\",\n",
        "        \"Clusters jerárquicos, flexible, buena separación\"\n",
        "    ]\n",
        "})\n",
        "\n",
        "# Mostrar tabla en formato markdown\n",
        "print(comparativa.to_markdown(index=False))"
      ]
    },
    {
      "cell_type": "markdown",
      "id": "06f99124",
      "metadata": {},
      "source": [
        "\n",
        "Al comparar los tres enfoques, se observa que K-Means y el método aglomerativo crean grupos claramente definidos y distintos, aunque K-Means tiende a suponer formas esféricas y es vulnerable a la escala de los datos. Por otro lado, DBSCAN tiene la capacidad de detectar ruido, sin embargo, su eficacia depende en gran medida de los valores de los parámetros eps y min_samples, y no siempre logra identificar todos los grupos naturales. El método aglomerativo con enlace Ward logra una separación efectiva y es más adaptable en cuanto a las formas de los grupos. Debido a que presenta una alta puntuación de silhouette y es estable ante variaciones de parámetros, el enfoque que se destaca para este conjunto de datos es el Aglomerativo. Se descartan K-Means por su sensibilidad a la escala y DBSCAN debido a la influencia de los outliers y la falta de consistencia en relación a eps/min_samples. En conclusión, el método aglomerativo ofrece una combinación de buena separación, solidez y facilidad de interpretación para este conjunto de datos sobre pingüinos."
      ]
    },
    {
      "cell_type": "markdown",
      "id": "9a9f54db",
      "metadata": {},
      "source": [
        "---\n",
        "## Tips rápidos\n",
        "- **Escala siempre** antes de ajustar los modelos.\n",
        "- Si la Silhouette es negativa o muy baja, revisa parámetros.\n",
        "- En DBSCAN, `eps` muy pequeño -> muchos ruidos; `eps` muy grande -> pocos clústeres (puede mezclarlo todo).\n",
        "- K-Means es sensible a outliers; DBSCAN puede marcarlos como ruido; el jerárquico con `complete` favorece clústeres compactos.\n",
        "- Documenta tus decisiones (por qué ese `k`, ese `eps`, ese `linkage`).\n"
      ]
    },
    {
      "cell_type": "markdown",
      "id": "40cb40bf",
      "metadata": {},
      "source": [
        "# BONUS EXTRA\n",
        "\n",
        "### Validación tramposa\n",
        "\n",
        "Usa la columna species para evaluar qué tan “puras” son las asignaciones del mejor modelo de cada método.\n",
        "\n",
        "Creando una matriz de confusión entre clúster y especie y sacando accuracy.\n",
        "\n",
        "Comenta usando distintos valores de eps y min_samples en DBSCAN.\n",
        "\n",
        "### Detección de anomalías con DBSCAN\n",
        "\n",
        "Con tu configuración de DBSCAN, analiza los puntos con label = -1 (ruido): ¿qué tienen en común (rangos extremos de masa, culmen, etc.)?\n",
        "\n",
        "Genera una tabla o un par de graficas (histogramas comparativos, por ejemplo) para ilustrar las diferencias entre los puntos de ruido y los puntos asignados a clústeres.\n"
      ]
    }
  ],
  "metadata": {
    "created": "2025-10-17T10:56:23.151465Z",
    "kernelspec": {
      "display_name": "test_env",
      "language": "python",
      "name": "python3"
    },
    "language_info": {
      "codemirror_mode": {
        "name": "ipython",
        "version": 3
      },
      "file_extension": ".py",
      "mimetype": "text/x-python",
      "name": "python",
      "nbconvert_exporter": "python",
      "pygments_lexer": "ipython3",
      "version": "3.10.18"
    }
  },
  "nbformat": 4,
  "nbformat_minor": 5
}
